{
 "cells": [
  {
   "cell_type": "markdown",
   "metadata": {},
   "source": [
    "# Activity #1\n",
    "Create a program in python that will generate the following output:\n",
    "\n",
    "****************************\n",
    "How many inputs? [5]\n",
    "****************************\n",
    "Enter a number: [7] <br>\n",
    "Enter a number: [1] <br>\n",
    "Enter a number: [16] <br>\n",
    "Enter a number: [75] <br>\n",
    "Enter a number: [99]\n",
    "****************************\n",
    "Look for the input that is <br>\n",
    "a Palindromic Number: 99\n",
    "****************************"
   ]
  },
  {
   "cell_type": "markdown",
   "metadata": {},
   "source": [
    "## Output:"
   ]
  },
  {
   "cell_type": "code",
   "execution_count": null,
   "metadata": {},
   "outputs": [],
   "source": [
    "\"\"\"\n",
    "Created by Angelo John Benedict Laus of SF231\n",
    "Created on April 4, 2024\n",
    "\"\"\"\n",
    "\n",
    "print(\"****************************\")\n",
    "while True:\n",
    "    try:\n",
    "        num_inputs = int(input(\"How many inputs?: \"))\n",
    "        if num_inputs <= 0:\n",
    "            raise ValueError\n",
    "        break\n",
    "    except ValueError:\n",
    "        print(\"Invalid input. Please enter a 1+ number only.\")\n",
    "print(\"****************************\")\n",
    "inputs = []\n",
    "for _ in range(num_inputs):\n",
    "    while True:\n",
    "        try:\n",
    "            num = int(input(\"Enter a number: \"))\n",
    "            inputs.append(num)\n",
    "            break\n",
    "        except ValueError:\n",
    "            print(\"Invalid input. Please enter a number only.\")\n",
    "\n",
    "print(\"****************************\")\n",
    "palindromic_numbers = []\n",
    "for num in inputs:\n",
    "    num_string = str(num)\n",
    "    if len(num_string) >= 2 and num_string[0] == num_string[-1]:\n",
    "        palindromic_numbers.append(num)\n",
    "\n",
    "print(\"Look for the input that is \\na Palindromic Number: \", end=\"\")\n",
    "for num in palindromic_numbers:\n",
    "    print(num, end=\" \")\n",
    "print(\"\\n****************************\")\n",
    "\n",
    "\n",
    "\"\"\"\n",
    "Regarding the use of some methods:\n",
    "I cannot think of a way that would not require the following methods:\n",
    "append() == Used to append the input numbers to the list.\n",
    "len() == Used to check the length of the number to determine the possibility of repeating numbers.\n",
    "\n",
    "I also applied error checking as its importance was taught during my programming classes with the School of Engineering.\n",
    "\"\"\""
   ]
  }
 ],
 "metadata": {
  "kernelspec": {
   "display_name": "Python 3",
   "language": "python",
   "name": "python3"
  },
  "language_info": {
   "codemirror_mode": {
    "name": "ipython",
    "version": 3
   },
   "file_extension": ".py",
   "mimetype": "text/x-python",
   "name": "python",
   "nbconvert_exporter": "python",
   "pygments_lexer": "ipython3",
   "version": "3.12.2"
  }
 },
 "nbformat": 4,
 "nbformat_minor": 2
}
