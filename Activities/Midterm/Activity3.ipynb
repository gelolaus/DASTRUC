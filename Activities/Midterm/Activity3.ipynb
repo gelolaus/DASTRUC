{
 "cells": [
  {
   "cell_type": "code",
   "execution_count": 18,
   "metadata": {},
   "outputs": [],
   "source": [
    "class Animal:\n",
    "    def __init__(self, breed, info):\n",
    "        self.breed = breed\n",
    "        self.info = info\n",
    "\n",
    "    def getInfo(self):\n",
    "        print(self.breed, \"are\", self.info)\n",
    "\n",
    "class cat(Animal):\n",
    "    pass\n",
    "\n",
    "class dog(Animal):\n",
    "    pass\n",
    "\n",
    "class whale(Animal):\n",
    "    pass"
   ]
  },
  {
   "cell_type": "code",
   "execution_count": 19,
   "metadata": {},
   "outputs": [
    {
     "name": "stdout",
     "output_type": "stream",
     "text": [
      "Persian are one of the oldest and most popular cat breeds. They are known for their luxurious long coats, round faces, and sweet temperaments.\n"
     ]
    }
   ],
   "source": [
    "Persian = cat(\"Persian\",\"one of the oldest and most popular cat breeds. They are known for their luxurious long coats, round faces, and sweet temperaments.\")\n",
    "Persian.getInfo()"
   ]
  }
 ],
 "metadata": {
  "kernelspec": {
   "display_name": "Python 3",
   "language": "python",
   "name": "python3"
  },
  "language_info": {
   "codemirror_mode": {
    "name": "ipython",
    "version": 3
   },
   "file_extension": ".py",
   "mimetype": "text/x-python",
   "name": "python",
   "nbconvert_exporter": "python",
   "pygments_lexer": "ipython3",
   "version": "3.12.2"
  }
 },
 "nbformat": 4,
 "nbformat_minor": 2
}
