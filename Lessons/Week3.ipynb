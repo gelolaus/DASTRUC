{
 "cells": [
  {
   "cell_type": "markdown",
   "metadata": {},
   "source": [
    "# Loops"
   ]
  },
  {
   "cell_type": "markdown",
   "metadata": {},
   "source": [
    "## For Loop\n",
    "- The code below prints a list of names."
   ]
  },
  {
   "cell_type": "code",
   "execution_count": 2,
   "metadata": {},
   "outputs": [
    {
     "name": "stdout",
     "output_type": "stream",
     "text": [
      "Christopher\n",
      "Susan\n"
     ]
    }
   ],
   "source": [
    "for name in ['Christopher', 'Susan']:\n",
    "    print(name)"
   ]
  },
  {
   "cell_type": "markdown",
   "metadata": {},
   "source": [
    "- The code below prints a list of numbers from zero to one using range().\n",
    "- The only difference is that when we call range, it will create that array of zero and one.\n",
    "- If you want to loop a particular number of times, you use range."
   ]
  },
  {
   "cell_type": "code",
   "execution_count": 3,
   "metadata": {},
   "outputs": [
    {
     "name": "stdout",
     "output_type": "stream",
     "text": [
      "0\n",
      "1\n"
     ]
    }
   ],
   "source": [
    "for index in range(0,2):\n",
    "    print(index)"
   ]
  },
  {
   "cell_type": "markdown",
   "metadata": {},
   "source": [
    "## While Loop\n",
    "- As long as something is true, we're going to stay inside the loop.\n",
    "- You would want to use a while loop in situations where something will change automatically."
   ]
  },
  {
   "cell_type": "code",
   "execution_count": 4,
   "metadata": {},
   "outputs": [
    {
     "name": "stdout",
     "output_type": "stream",
     "text": [
      "Christopher\n",
      "Susan\n"
     ]
    }
   ],
   "source": [
    "names = ['Christopher', 'Susan']\n",
    "index = 0\n",
    "while index < len(names):\n",
    "    print(names[index])\n",
    "    # Make sure you change the condition or you will get stuck in an infinite loop\n",
    "    index = index + 1\n",
    "\n",
    "# This is better done with a For Loop as it just prints out a list."
   ]
  },
  {
   "cell_type": "markdown",
   "metadata": {},
   "source": [
    "## Usage of For and While Loops"
   ]
  },
  {
   "cell_type": "code",
   "execution_count": 8,
   "metadata": {},
   "outputs": [
    {
     "name": "stdout",
     "output_type": "stream",
     "text": [
      "Christopher\n",
      "Susan\n"
     ]
    }
   ],
   "source": [
    "# This is a for loop\n",
    "\n",
    "people = ['Christopher', 'Susan']\n",
    "\n",
    "for name in people:\n",
    "    print(name)"
   ]
  },
  {
   "cell_type": "code",
   "execution_count": 6,
   "metadata": {},
   "outputs": [
    {
     "name": "stdout",
     "output_type": "stream",
     "text": [
      "Christopher\n",
      "Susan\n"
     ]
    }
   ],
   "source": [
    "# This is a while loop\n",
    "\n",
    "people = ['Christopher', 'Susan']\n",
    "\n",
    "index = 0\n",
    "while index < len(people):\n",
    "    print(people[index])\n",
    "    index = index + 1"
   ]
  },
  {
   "cell_type": "markdown",
   "metadata": {},
   "source": [
    "# Functions\n",
    "- Sometimes we copy and paste our code.\n",
    "- You can put a code that you need to run over and over again by moving them to a function."
   ]
  },
  {
   "cell_type": "code",
   "execution_count": 9,
   "metadata": {},
   "outputs": [
    {
     "name": "stdout",
     "output_type": "stream",
     "text": [
      "task completed\n",
      "2024-04-04 14:05:20.725809\n",
      "\n",
      "0\n",
      "1\n",
      "2\n",
      "3\n",
      "4\n",
      "5\n",
      "6\n",
      "7\n",
      "8\n",
      "9\n",
      "task completed\n",
      "2024-04-04 14:05:20.725809\n",
      "\n"
     ]
    }
   ],
   "source": [
    "import datetime\n",
    "\n",
    "def print_time():\n",
    "    print('task completed')\n",
    "    print(datetime.datetime.now())\n",
    "    print()\n",
    "\n",
    "first_name = 'Susan'\n",
    "print_time()\n",
    "\n",
    "for x in range(0,10):\n",
    "    print(x)\n",
    "print_time()"
   ]
  },
  {
   "cell_type": "code",
   "execution_count": 12,
   "metadata": {},
   "outputs": [
    {
     "name": "stdout",
     "output_type": "stream",
     "text": [
      "first name assigned\n",
      "2024-04-04 14:15:28.293084\n",
      "\n",
      "0\n",
      "1\n",
      "2\n",
      "3\n",
      "4\n",
      "5\n",
      "6\n",
      "7\n",
      "8\n",
      "9\n",
      "loop completed\n",
      "2024-04-04 14:15:28.293616\n",
      "\n"
     ]
    }
   ],
   "source": [
    "from datetime import datetime\n",
    "\n",
    "def print_time(task_name):\n",
    "    print(task_name)\n",
    "    print(datetime.now())\n",
    "    print()\n",
    "\n",
    "first_name = 'Susan'\n",
    "print_time('first name assigned')\n",
    "\n",
    "for x in range(0,10):\n",
    "    print(x)\n",
    "print_time('loop completed')"
   ]
  },
  {
   "cell_type": "code",
   "execution_count": 17,
   "metadata": {},
   "outputs": [
    {
     "name": "stdout",
     "output_type": "stream",
     "text": [
      "Your initials are: AL\n"
     ]
    }
   ],
   "source": [
    "def get_initial(name):\n",
    "    initial = name[0:1].upper()\n",
    "    return initial\n",
    "\n",
    "first_name = input('Enter your first name: ')\n",
    "first_name_initial = get_initial(first_name)\n",
    "\n",
    "last_name = input('Enter your last name: ')\n",
    "last_name_initial = get_initial(last_name)\n",
    "\n",
    "print('Your initials are: ' + first_name_initial + last_name_initial)"
   ]
  },
  {
   "cell_type": "code",
   "execution_count": 18,
   "metadata": {},
   "outputs": [
    {
     "name": "stdout",
     "output_type": "stream",
     "text": [
      "Your initials are: AL\n"
     ]
    }
   ],
   "source": [
    "def get_initial(name):\n",
    "    initial = name[0:1].upper()\n",
    "    return initial\n",
    "\n",
    "first_name = input('Enter your first name: ')\n",
    "last_name = input('Enter your last name: ')\n",
    "\n",
    "print('Your initials are: ' + get_initial(first_name) + get_initial(last_name))"
   ]
  },
  {
   "cell_type": "markdown",
   "metadata": {},
   "source": [
    "- Functions make your code easier to read and use.\n",
    "- Always include comments for every function used.\n",
    "- Define function has to be declared before you have the code that calls a function."
   ]
  },
  {
   "cell_type": "markdown",
   "metadata": {},
   "source": [
    "## Function Parameters"
   ]
  },
  {
   "cell_type": "code",
   "execution_count": 23,
   "metadata": {},
   "outputs": [
    {
     "name": "stdout",
     "output_type": "stream",
     "text": [
      "First Name: angelo\n",
      "Your initial is: A\n"
     ]
    }
   ],
   "source": [
    "def get_initial(name, force_uppercase=True):\n",
    "    if force_uppercase:\n",
    "        initial = name[0:1].upper()\n",
    "    else:\n",
    "        initial = name[0:1]\n",
    "    return initial\n",
    "\n",
    "first_name = input('Enter your first name: ')\n",
    "# For preview purposes:\n",
    "print(\"First Name:\", first_name)\n",
    "first_name_initial = get_initial(first_name)\n",
    "\n",
    "print('Your initial is: ' + first_name_initial)"
   ]
  },
  {
   "cell_type": "code",
   "execution_count": 24,
   "metadata": {},
   "outputs": [
    {
     "name": "stdout",
     "output_type": "stream",
     "text": [
      "Your initial is: A\n"
     ]
    }
   ],
   "source": [
    "def get_initial(name, force_uppercase):\n",
    "    if force_uppercase:\n",
    "        initial = name[0:1].upper()\n",
    "    else:\n",
    "        initial = name[0:1]\n",
    "    return initial\n",
    "\n",
    "first_name = input('Enter your first name: ')\n",
    "first_name_initial = get_initial(force_uppercase=True, name=first_name)\n",
    "\n",
    "print('Your initial is: ' + first_name_initial)"
   ]
  },
  {
   "cell_type": "code",
   "execution_count": 28,
   "metadata": {},
   "outputs": [
    {
     "name": "stdout",
     "output_type": "stream",
     "text": [
      "First Name: angelo\n",
      "Your initial is: a\n"
     ]
    }
   ],
   "source": [
    "def get_initial(name, force_uppercase=True):\n",
    "    if force_uppercase:\n",
    "        initial = name[0:1].upper()\n",
    "    else:\n",
    "        initial = name[0:1]\n",
    "    return initial\n",
    "\n",
    "first_name = input('Enter your first name: ')\n",
    "# For preview purposes:\n",
    "print(\"First Name:\", first_name)\n",
    "first_name_initial = get_initial(force_uppercase=False, name=first_name)\n",
    "\n",
    "print('Your initial is: ' + first_name_initial)"
   ]
  }
 ],
 "metadata": {
  "kernelspec": {
   "display_name": "Python 3",
   "language": "python",
   "name": "python3"
  },
  "language_info": {
   "codemirror_mode": {
    "name": "ipython",
    "version": 3
   },
   "file_extension": ".py",
   "mimetype": "text/x-python",
   "name": "python",
   "nbconvert_exporter": "python",
   "pygments_lexer": "ipython3",
   "version": "3.12.2"
  }
 },
 "nbformat": 4,
 "nbformat_minor": 2
}
