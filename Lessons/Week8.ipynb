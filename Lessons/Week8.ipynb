{
 "cells": [
  {
   "cell_type": "markdown",
   "metadata": {},
   "source": [
    "# What is Sorting in Python?\n",
    "- It refers to arranging available data in a particular format.\n",
    "```\n",
    "L1 = [2,4,6,7,3,1,5,9,8]\n",
    "L1 = [9,8,7,6,5,4,3,2,1]\n",
    "```\n",
    "\n",
    "# Importance of Sorting\n",
    "- Searches for an item in a list is made faster and easier.\n",
    "- It is also used to represent data in more readable formats.\n",
    "- It helps locate various patterns in data.\n",
    "- Duplicate values can be found in a list very quickly when the list is sorted."
   ]
  },
  {
   "cell_type": "code",
   "execution_count": 1,
   "metadata": {},
   "outputs": [
    {
     "name": "stdout",
     "output_type": "stream",
     "text": [
      "[12, 15, 27, 33, 62]\n"
     ]
    }
   ],
   "source": [
    "# Ascending order\n",
    "L1 = [12,33,27,15,62]\n",
    "L1.sort()\n",
    "print(L1)"
   ]
  },
  {
   "cell_type": "code",
   "execution_count": 2,
   "metadata": {},
   "outputs": [
    {
     "name": "stdout",
     "output_type": "stream",
     "text": [
      "[62, 33, 27, 15, 12]\n"
     ]
    }
   ],
   "source": [
    "# Descending order\n",
    "L1 = [12,33,27,15,62]\n",
    "L1.sort(reverse=True)\n",
    "print(L1)"
   ]
  },
  {
   "cell_type": "markdown",
   "metadata": {},
   "source": [
    "# Bubble Sort\n",
    "- The first element is compared with the adjacent element.\n",
    "- If the adjacent element is smaller than the first element, the elements are swapped.\n",
    "- The algorithm then compares the second element with its adjacent element and the process continues to bubble the alrgest element to the right side of the list and finally sorts the list in ascending order."
   ]
  },
  {
   "cell_type": "code",
   "execution_count": 6,
   "metadata": {},
   "outputs": [
    {
     "name": "stdout",
     "output_type": "stream",
     "text": [
      "j 0\n",
      "j+1 1\n",
      "[9, 8, 6, 4]\n",
      "[8, 9, 6, 4]\n",
      "j 1\n",
      "j+1 2\n",
      "[8, 9, 6, 4]\n",
      "[8, 6, 9, 4]\n",
      "j 2\n",
      "j+1 3\n",
      "[8, 6, 9, 4]\n",
      "[8, 6, 4, 9]\n",
      "j 0\n",
      "j+1 1\n",
      "[8, 6, 4, 9]\n",
      "[6, 8, 4, 9]\n",
      "j 1\n",
      "j+1 2\n",
      "[6, 8, 4, 9]\n",
      "[6, 4, 8, 9]\n",
      "j 0\n",
      "j+1 1\n",
      "[6, 4, 8, 9]\n",
      "[4, 6, 8, 9]\n"
     ]
    }
   ],
   "source": [
    "def bubbleSort(arr):\n",
    "    n = len(arr)\n",
    "    for i in range(n): # n will be 4\n",
    "        for j in range (0, n - i - 1):\n",
    "            print(\"j\",j)\n",
    "            print(\"j+1\",j+1)\n",
    "            print(arr)\n",
    "            if arr[j] > arr[j + 1]:\n",
    "                arr[j], arr[j+1] = arr[j+1], arr[j]\n",
    "                print(arr)\n",
    "\n",
    "elements = [9,8,6,4] # The length of this array is 4\n",
    "bubbleSort(elements)"
   ]
  },
  {
   "cell_type": "markdown",
   "metadata": {},
   "source": [
    "# Insertion Sort\n",
    "- Places a given element at the right position in a sorted list. In the beginning, we comapre the first two elements then compare them.\n",
    "- It's like playing card where when you shuffle the cards and sort the cards in your hand."
   ]
  },
  {
   "cell_type": "code",
   "execution_count": 10,
   "metadata": {},
   "outputs": [
    {
     "name": "stdout",
     "output_type": "stream",
     "text": [
      "[8, 4, 6, 9, 15, 12, 11]\n",
      "[4, 8, 6, 9, 15, 12, 11]\n",
      "[4, 6, 8, 9, 15, 12, 11]\n",
      "[4, 6, 8, 9, 12, 15, 11]\n",
      "[4, 6, 8, 9, 12, 11, 15]\n",
      "[4, 6, 8, 9, 11, 12, 15]\n"
     ]
    }
   ],
   "source": [
    "def InsertionSort(array):\n",
    "    print(array)\n",
    "    for a in range(1, len(array)): #S tart with 1 since first is considered sorted\n",
    "        b = a\n",
    "        while b > 0 and array[b] < array[b-1]:\n",
    "            array[b-1],array[b]=array[b],array[b-1]\n",
    "            b -= 1\n",
    "            print(array)\n",
    "\n",
    "array = [8,4,6,9,15,12,11]\n",
    "InsertionSort(array)"
   ]
  },
  {
   "cell_type": "markdown",
   "metadata": {},
   "source": [
    "# Merge Sort\n",
    "- Divide and conquer algorithm.\n",
    "- Divide the list into equal parts, then sort the parts, then unite them as a sorted list."
   ]
  },
  {
   "cell_type": "code",
   "execution_count": 1,
   "metadata": {},
   "outputs": [
    {
     "name": "stdout",
     "output_type": "stream",
     "text": [
      "left:  [8, 4]  right:  [9, 6]\n",
      "left:  [8]  right:  [4]\n"
     ]
    },
    {
     "ename": "UnboundLocalError",
     "evalue": "cannot access local variable 'left' where it is not associated with a value",
     "output_type": "error",
     "traceback": [
      "\u001b[1;31m---------------------------------------------------------------------------\u001b[0m",
      "\u001b[1;31mUnboundLocalError\u001b[0m                         Traceback (most recent call last)",
      "Cell \u001b[1;32mIn[1], line 33\u001b[0m\n\u001b[0;32m     30\u001b[0m     \u001b[38;5;28mprint\u001b[39m(myList)\n\u001b[0;32m     32\u001b[0m myList \u001b[38;5;241m=\u001b[39m [\u001b[38;5;241m8\u001b[39m,\u001b[38;5;241m4\u001b[39m,\u001b[38;5;241m9\u001b[39m,\u001b[38;5;241m6\u001b[39m]\n\u001b[1;32m---> 33\u001b[0m \u001b[43mmergeSort\u001b[49m\u001b[43m(\u001b[49m\u001b[43mmyList\u001b[49m\u001b[43m)\u001b[49m\n",
      "Cell \u001b[1;32mIn[1], line 7\u001b[0m, in \u001b[0;36mmergeSort\u001b[1;34m(myList)\u001b[0m\n\u001b[0;32m      5\u001b[0m     right \u001b[38;5;241m=\u001b[39m myList[mid:]\n\u001b[0;32m      6\u001b[0m \u001b[38;5;28mprint\u001b[39m(\u001b[38;5;124m\"\u001b[39m\u001b[38;5;124mleft: \u001b[39m\u001b[38;5;124m\"\u001b[39m,left,\u001b[38;5;124m\"\u001b[39m\u001b[38;5;124m right: \u001b[39m\u001b[38;5;124m\"\u001b[39m,right)\n\u001b[1;32m----> 7\u001b[0m \u001b[43mmergeSort\u001b[49m\u001b[43m(\u001b[49m\u001b[43mleft\u001b[49m\u001b[43m)\u001b[49m\n\u001b[0;32m      8\u001b[0m mergeSort(right)\n\u001b[0;32m     10\u001b[0m i \u001b[38;5;241m=\u001b[39m \u001b[38;5;241m0\u001b[39m \u001b[38;5;66;03m# Left\u001b[39;00m\n",
      "Cell \u001b[1;32mIn[1], line 7\u001b[0m, in \u001b[0;36mmergeSort\u001b[1;34m(myList)\u001b[0m\n\u001b[0;32m      5\u001b[0m     right \u001b[38;5;241m=\u001b[39m myList[mid:]\n\u001b[0;32m      6\u001b[0m \u001b[38;5;28mprint\u001b[39m(\u001b[38;5;124m\"\u001b[39m\u001b[38;5;124mleft: \u001b[39m\u001b[38;5;124m\"\u001b[39m,left,\u001b[38;5;124m\"\u001b[39m\u001b[38;5;124m right: \u001b[39m\u001b[38;5;124m\"\u001b[39m,right)\n\u001b[1;32m----> 7\u001b[0m \u001b[43mmergeSort\u001b[49m\u001b[43m(\u001b[49m\u001b[43mleft\u001b[49m\u001b[43m)\u001b[49m\n\u001b[0;32m      8\u001b[0m mergeSort(right)\n\u001b[0;32m     10\u001b[0m i \u001b[38;5;241m=\u001b[39m \u001b[38;5;241m0\u001b[39m \u001b[38;5;66;03m# Left\u001b[39;00m\n",
      "Cell \u001b[1;32mIn[1], line 6\u001b[0m, in \u001b[0;36mmergeSort\u001b[1;34m(myList)\u001b[0m\n\u001b[0;32m      4\u001b[0m     left \u001b[38;5;241m=\u001b[39m myList[:mid]\n\u001b[0;32m      5\u001b[0m     right \u001b[38;5;241m=\u001b[39m myList[mid:]\n\u001b[1;32m----> 6\u001b[0m \u001b[38;5;28mprint\u001b[39m(\u001b[38;5;124m\"\u001b[39m\u001b[38;5;124mleft: \u001b[39m\u001b[38;5;124m\"\u001b[39m,\u001b[43mleft\u001b[49m,\u001b[38;5;124m\"\u001b[39m\u001b[38;5;124m right: \u001b[39m\u001b[38;5;124m\"\u001b[39m,right)\n\u001b[0;32m      7\u001b[0m mergeSort(left)\n\u001b[0;32m      8\u001b[0m mergeSort(right)\n",
      "\u001b[1;31mUnboundLocalError\u001b[0m: cannot access local variable 'left' where it is not associated with a value"
     ]
    }
   ],
   "source": [
    "def mergeSort(myList):\n",
    "    if len(myList) > 1:\n",
    "        mid = len(myList) // 2\n",
    "        left = myList[:mid]\n",
    "        right = myList[mid:]\n",
    "    print(\"left: \",left,\" right: \",right)\n",
    "    mergeSort(left)\n",
    "    mergeSort(right)\n",
    "\n",
    "    i = 0 # Left\n",
    "    j = 0 # Right\n",
    "    k = 0 # Counter\n",
    "\n",
    "    while i < len(left) and j < len(right):\n",
    "        if left[i] <= right[j]:\n",
    "            myList[k] = left[i]\n",
    "            i += 1\n",
    "        else:\n",
    "            myList[k] = right[j]\n",
    "            j += 1\n",
    "        k += 1\n",
    "    while i < len(left):\n",
    "        myList[k] = left[i]\n",
    "        i += 1\n",
    "        k += 1\n",
    "    while j < len(right):\n",
    "        myList[k] = right[j]\n",
    "        j += 1\n",
    "        k += 1\n",
    "    print(myList)\n",
    "\n",
    "myList = [8,4,9,6]\n",
    "mergeSort(myList)"
   ]
  },
  {
   "cell_type": "markdown",
   "metadata": {},
   "source": [
    "# Quick Sort\n",
    "- Divide and Conquer algorithm\n",
    "- You choose a pivot element in the array. Then store elements less than pivot in the left subarray and elements greater than pivot in the right subarray and all this is done in linear time.\n",
    "- We will call quicksort on the left then the right subarray."
   ]
  },
  {
   "cell_type": "code",
   "execution_count": 18,
   "metadata": {},
   "outputs": [
    {
     "name": "stdout",
     "output_type": "stream",
     "text": [
      "[40, 21, 8, 17, 51, 34]\n",
      "j 3 arr[j] 17\n",
      "[17, 21, 8, 40, 51, 34]\n",
      "i 1 arr[i] 21\n",
      "i 2 arr[i] 8\n",
      "i 3 arr[i] 40\n",
      "j 2 arr[j] 8\n",
      "[17, 21, 8, 34, 51, 40]\n",
      "j 0 arr[j] 17\n",
      "[8, 21, 17, 34, 51, 40]\n",
      "[8, 17, 21, 34, 51, 40]\n",
      "[8, 17, 21, 34, 40, 51]\n"
     ]
    }
   ],
   "source": [
    "def quickSort(array,left,right):\n",
    "    if left < right:\n",
    "        pi = partition(array,left,right)\n",
    "        \n",
    "        quickSort(array,left,pi-1)\n",
    "        quickSort(array,pi+1,right)\n",
    "\n",
    "def partition(arr,left,right):\n",
    "    i = left\n",
    "    j = right - 1\n",
    "    pivot = arr[right]\n",
    "\n",
    "    while i < j:\n",
    "        while i < right and arr[i] < pivot:\n",
    "            i += 1\n",
    "            print(\"i\",i,\"arr[i]\",arr[i])\n",
    "        while j > left and arr[j] >= pivot:\n",
    "            j -=1\n",
    "            print(\"j\",j,\"arr[j]\",arr[j])\n",
    "        if i < j:\n",
    "            arr[i],arr[j]=arr[j],arr[i]\n",
    "            print(arr)\n",
    "\n",
    "    if arr[i] > pivot:\n",
    "        arr[i],arr[right] = arr[right],arr[i]\n",
    "        print(arr)\n",
    "    return i\n",
    "\n",
    "data = [40,21,8,17,51,34]\n",
    "print(data)\n",
    "quickSort(data, 0, len(data) - 1)"
   ]
  }
 ],
 "metadata": {
  "kernelspec": {
   "display_name": "Python 3",
   "language": "python",
   "name": "python3"
  },
  "language_info": {
   "codemirror_mode": {
    "name": "ipython",
    "version": 3
   },
   "file_extension": ".py",
   "mimetype": "text/x-python",
   "name": "python",
   "nbconvert_exporter": "python",
   "pygments_lexer": "ipython3",
   "version": "3.12.2"
  }
 },
 "nbformat": 4,
 "nbformat_minor": 2
}
