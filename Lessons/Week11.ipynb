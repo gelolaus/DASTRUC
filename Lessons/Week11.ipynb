{
 "cells": [
  {
   "cell_type": "markdown",
   "metadata": {},
   "source": [
    "# Binary Tree Traversals\n",
    "- Meaning that I want to visit all the nodes of the tree which will depend on the method that will be used.\n",
    "\n",
    "## 3 Parts to a Binary Tree\n",
    "- Root\n",
    "- Left sub tree\n",
    "- Right sub tree\n",
    "\n",
    "## Types of Traversals\n",
    "- Pre-order Traversal\n",
    "- In-order Traversal\n",
    "- Post-order Traversal"
   ]
  },
  {
   "cell_type": "markdown",
   "metadata": {},
   "source": [
    "# Pre-order Traversal\n",
    "Root to Left Tree to Right Tree <br>\n",
    "a -> b -> d -> e -> c -> f"
   ]
  },
  {
   "cell_type": "markdown",
   "metadata": {},
   "source": [
    "a - b - d - h - i - p - q - e - j - k - r - s - c - f - l - m - g - n - t - y - u - w - x - o"
   ]
  },
  {
   "cell_type": "markdown",
   "metadata": {},
   "source": [
    "# In-order Traversal\n",
    "Left Tree to Root to Right Tree <br>\n",
    "d -> b -> e -> a -> f -> c"
   ]
  },
  {
   "cell_type": "markdown",
   "metadata": {},
   "source": []
  },
  {
   "cell_type": "markdown",
   "metadata": {},
   "source": [
    "# Post-order Traversal\n",
    "Left Tree to Right Tree to Root <br>\n",
    "d -> e -> b -> f -> c - > a"
   ]
  }
 ],
 "metadata": {
  "language_info": {
   "name": "python"
  }
 },
 "nbformat": 4,
 "nbformat_minor": 2
}
