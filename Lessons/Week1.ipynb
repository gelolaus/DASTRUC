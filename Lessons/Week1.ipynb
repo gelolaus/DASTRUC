{
 "cells": [
  {
   "cell_type": "markdown",
   "metadata": {},
   "source": [
    "# Variable Types\n",
    "- Variable types do not need to be declared.\n",
    "- Python can declare variable types based on the value inside the variable."
   ]
  },
  {
   "cell_type": "code",
   "execution_count": 7,
   "metadata": {},
   "outputs": [
    {
     "name": "stdout",
     "output_type": "stream",
     "text": [
      "11\n",
      "Hello\n",
      "3.45\n"
     ]
    }
   ],
   "source": [
    "x = 34 - 23 # The result of this operation should be 11\n",
    "print(x)\n",
    "\n",
    "y = \"Hello\" # This is a string, you cannot concatenate it with an integer\n",
    "print(y)\n",
    "\n",
    "z = 3.45 # This is a float, you cannot concatenate it with a string\n",
    "print(z)"
   ]
  },
  {
   "cell_type": "markdown",
   "metadata": {},
   "source": [
    "# Indentation\n",
    "- Indentation matters in Python.\n",
    "- The purpose of indetation is to nest objects to loops, etc.\n",
    "- Some statements will throw an error if there is an issue with the indetation."
   ]
  },
  {
   "cell_type": "markdown",
   "metadata": {},
   "source": [
    "# Operators\n",
    "- Logical operators are words in Python.\n",
    "- The `+` can be used for concatenation.\n",
    "- Arithmetic operators can be used for basic mathematical operations."
   ]
  },
  {
   "cell_type": "code",
   "execution_count": 8,
   "metadata": {},
   "outputs": [
    {
     "name": "stdout",
     "output_type": "stream",
     "text": [
      "12\n",
      "Hello world!\n",
      "2.5\n",
      "3.456\n"
     ]
    }
   ],
   "source": [
    "if z == 3.45 or y == \"Hello\": # If variable z is equal to 3.45 or variable y is equal to \"Hello\"\n",
    "    x = x + 1 # Then add 1 to variable x\n",
    "    y = y + \" world!\" # Then concatenate \" World\" to variable y\n",
    "print(x)\n",
    "print(y)\n",
    "\n",
    "z = 5/2\n",
    "x = 3.456\n",
    "print(z)\n",
    "print(x)"
   ]
  },
  {
   "cell_type": "markdown",
   "metadata": {},
   "source": [
    "# Strings\n",
    "- Can use single or double quotation.\n",
    "- Unmatched can occur with a string.\n",
    "- Use triple double-quotes for multi-line strings or strings that contain both single and double quotation inside of them. Example: `\"\"\"a'b\"c\"\"\"`"
   ]
  },
  {
   "cell_type": "code",
   "execution_count": 9,
   "metadata": {},
   "outputs": [
    {
     "name": "stdout",
     "output_type": "stream",
     "text": [
      "\"Hello\" is equal to 'Hello'.\n"
     ]
    }
   ],
   "source": [
    "if \"Hello\" == 'Hello':\n",
    "    print(\"\\\"Hello\\\" is equal to \\'Hello\\'.\")"
   ]
  },
  {
   "cell_type": "markdown",
   "metadata": {},
   "source": [
    "# Whitespace\n",
    "- Meaningful when it comes to identation and adding new lines.\n",
    "- No braces are needed to mark blocks of code.\n",
    "- Use consistent identation.\n",
    "- Colons start a new block in many constructs, e.g. function definitions, then, "
   ]
  },
  {
   "cell_type": "markdown",
   "metadata": {},
   "source": [
    "# Comments\n",
    "- Start comments with `#`, the rest of the line after the pound sign will be ignored."
   ]
  },
  {
   "cell_type": "code",
   "execution_count": 10,
   "metadata": {},
   "outputs": [],
   "source": [
    "# Here's a comment\n",
    "\n",
    "# Another comment after a whitespace.\n",
    "# These comments are ignored by the compiler."
   ]
  },
  {
   "cell_type": "markdown",
   "metadata": {},
   "source": [
    "# Assignment\n",
    "- Assignment create references, not copies.\n",
    "- Names in Python do not have an intrinsic type, objects have types.\n",
    "- Python determines the type of the reference automatically based on what data is assigned to it.\n",
    "- Python uses ___reference semantics___."
   ]
  },
  {
   "cell_type": "markdown",
   "metadata": {},
   "source": [
    "# Naming Rules and Conventions\n",
    "- Case sensitive and cannot start with a number.\n",
    "- There are some reserved words and special characters. Only the `_` is accepted.\n",
    "- Here are good examples:\n",
    "`bob` `Bob` `_bob` `_2_bob_` `bob_2` `BoB`.\n",
    "- `joined_lower` for functions, methods, and attributes.\n",
    "`joined_lower` or `ALL_CAPS` for constants.\n",
    "`TitleCase`/`Studlycase` for classes.\n",
    "`camelCase` only to conform to pre-existing conventions."
   ]
  },
  {
   "cell_type": "code",
   "execution_count": 11,
   "metadata": {},
   "outputs": [],
   "source": [
    "num = 100\n",
    "n_u_m = 200\n",
    "num2 = 300\n",
    "_num = 400\n",
    "_num_2 = 500\n",
    "_2_ = 600"
   ]
  },
  {
   "cell_type": "markdown",
   "metadata": {},
   "source": [
    "# Assignment\n",
    "- You can assign multiple variable names to variables at the same time."
   ]
  },
  {
   "cell_type": "code",
   "execution_count": 12,
   "metadata": {},
   "outputs": [
    {
     "name": "stdout",
     "output_type": "stream",
     "text": [
      "2\n",
      "3\n",
      "4\n",
      "Five\n"
     ]
    }
   ],
   "source": [
    "a,b,c,d = 2,3,4,\"Five\"\n",
    "print(a)\n",
    "print(b)\n",
    "print(c)\n",
    "print(d)"
   ]
  },
  {
   "cell_type": "markdown",
   "metadata": {},
   "source": [
    "# Accessing Non-Existent Name\n",
    "- Accessing a name before it's been properly created raises an error.\n",
    "```\n",
    ">>> y\n",
    "```"
   ]
  }
 ],
 "metadata": {
  "kernelspec": {
   "display_name": "Python 3",
   "language": "python",
   "name": "python3"
  },
  "language_info": {
   "codemirror_mode": {
    "name": "ipython",
    "version": 3
   },
   "file_extension": ".py",
   "mimetype": "text/x-python",
   "name": "python",
   "nbconvert_exporter": "python",
   "pygments_lexer": "ipython3",
   "version": "3.12.2"
  }
 },
 "nbformat": 4,
 "nbformat_minor": 2
}
